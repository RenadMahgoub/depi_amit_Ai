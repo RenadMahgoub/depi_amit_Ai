{
 "cells": [
  {
   "cell_type": "code",
   "execution_count": 27,
   "id": "1cc2e75a",
   "metadata": {},
   "outputs": [],
   "source": [
    "from datetime import datetime\n",
    "\n",
    "class BankAccount:\n",
    "    def __init__(self, name, balance=0):\n",
    "        self.name, self.balance, self.history = name, balance, []\n",
    "\n",
    "    def deposit(self, amount):\n",
    "        self.balance += amount\n",
    "        self.history.append(f\"Deposit {amount} @ {datetime.now()}\")\n",
    "        print(self.balance)\n",
    "\n",
    "    def withdraw(self, amount):\n",
    "        if amount > self.balance: print(\"Insufficient\")\n",
    "        else:\n",
    "            self.balance -= amount\n",
    "            self.history.append(f\"Withdraw {amount} @ {datetime.now()}\")\n",
    "            print(self.balance)\n",
    "\n",
    "    def check_balance(self):\n",
    "        print(self.balance)\n",
    "\n",
    "    def show_history(self):\n",
    "        for r in self.history: print(r)\n",
    "class BankSystem:\n",
    "    def __init__(self): self.accounts={}\n",
    "    def create(self, name, bal=0):\n",
    "        self.accounts[name]=BankAccount(name, bal)\n",
    "    def get(self, name): return self.accounts.get(name)\n"
   ]
  },
  {
   "cell_type": "code",
   "execution_count": 28,
   "id": "fb114b09",
   "metadata": {},
   "outputs": [
    {
     "name": "stdout",
     "output_type": "stream",
     "text": [
      "150\n",
      "120\n",
      "120\n",
      "Deposit 50 @ 2025-09-01 07:57:04.748085\n",
      "Withdraw 30 @ 2025-09-01 07:57:04.749340\n"
     ]
    }
   ],
   "source": [
    "BA = BankAccount(\"BA\", 100)\n",
    "BA.deposit(50)\n",
    "BA.withdraw(30)\n",
    "BA.check_balance()\n",
    "BA.show_history()\n"
   ]
  },
  {
   "cell_type": "code",
   "execution_count": 36,
   "id": "4fc907d3",
   "metadata": {},
   "outputs": [],
   "source": [
    "bank = BankSystem()\n",
    "bank.create(\"Renad\", 100)\n",
    "bank.create(\"laila\", 200)\n"
   ]
  },
  {
   "cell_type": "code",
   "execution_count": 37,
   "id": "4222c514",
   "metadata": {},
   "outputs": [
    {
     "name": "stdout",
     "output_type": "stream",
     "text": [
      "Renad is depositing 50:\n",
      "150\n",
      "Lila is withdrawing 70:\n",
      "130\n"
     ]
    }
   ],
   "source": [
    "a = bank.get(\"Renad\")\n",
    "b = bank.get(\"laila\")\n",
    "\n",
    "print(\"Renad is depositing 50:\")\n",
    "a.deposit(50)    \n",
    "\n",
    "print(\"Lila is withdrawing 70:\")\n",
    "b.withdraw(70)   \n"
   ]
  },
  {
   "cell_type": "code",
   "execution_count": 38,
   "id": "039adea7",
   "metadata": {},
   "outputs": [
    {
     "name": "stdout",
     "output_type": "stream",
     "text": [
      "150\n",
      "130\n",
      "Deposit 50 @ 2025-09-01 08:01:12.137015\n",
      "Withdraw 70 @ 2025-09-01 08:01:12.137015\n"
     ]
    }
   ],
   "source": [
    "a.check_balance()\n",
    "b.check_balance()\n",
    "a.show_history()\n",
    "b.show_history()\n"
   ]
  }
 ],
 "metadata": {
  "kernelspec": {
   "display_name": "Python 3",
   "language": "python",
   "name": "python3"
  },
  "language_info": {
   "codemirror_mode": {
    "name": "ipython",
    "version": 3
   },
   "file_extension": ".py",
   "mimetype": "text/x-python",
   "name": "python",
   "nbconvert_exporter": "python",
   "pygments_lexer": "ipython3",
   "version": "3.12.9"
  }
 },
 "nbformat": 4,
 "nbformat_minor": 5
}
