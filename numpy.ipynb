{
 "cells": [
  {
   "cell_type": "code",
   "execution_count": 2,
   "id": "e606939e",
   "metadata": {},
   "outputs": [
    {
     "name": "stdout",
     "output_type": "stream",
     "text": [
      "Requirement already satisfied: numpy in c:\\users\\aldawlia\\appdata\\local\\programs\\python\\python312\\lib\\site-packages (2.3.1)\n",
      "Note: you may need to restart the kernel to use updated packages.\n"
     ]
    },
    {
     "name": "stderr",
     "output_type": "stream",
     "text": [
      "\n",
      "[notice] A new release of pip is available: 24.3.1 -> 25.2\n",
      "[notice] To update, run: python.exe -m pip install --upgrade pip\n"
     ]
    }
   ],
   "source": [
    "pip install numpy"
   ]
  },
  {
   "cell_type": "code",
   "execution_count": 3,
   "id": "1af4e543",
   "metadata": {},
   "outputs": [],
   "source": [
    "import numpy as np "
   ]
  },
  {
   "cell_type": "code",
   "execution_count": 7,
   "id": "c8b9c208",
   "metadata": {},
   "outputs": [
    {
     "name": "stdout",
     "output_type": "stream",
     "text": [
      "Scalar s:\n",
      "ndim: 0\n",
      "shape: ()\n",
      "==========\n",
      "Vector v:\n",
      "ndim: 1\n",
      "shape: (3,)\n",
      "==========\n",
      "Matrix m:\n",
      "ndim: 2\n",
      "shape: (3, 3)\n"
     ]
    }
   ],
   "source": [
    "import numpy as np\n",
    "\n",
    "s = np.array(5)\n",
    "print(\"Scalar s:\")\n",
    "print(\"ndim:\", s.ndim)\n",
    "print(\"shape:\", s.shape)\n",
    "print(\"==========\")\n",
    "\n",
    "v = np.array([1, 2, 3])\n",
    "print(\"Vector v:\")\n",
    "print(\"ndim:\", v.ndim)\n",
    "print(\"shape:\", v.shape)\n",
    "print(\"==========\")\n",
    "\n",
    "m = np.array([\n",
    "    [1, 2, 3],\n",
    "    [4, 5, 6],\n",
    "    [7, 8, 9]\n",
    "])\n",
    "print(\"Matrix m:\")\n",
    "print(\"ndim:\", m.ndim)\n",
    "print(\"shape:\", m.shape)\n"
   ]
  },
  {
   "cell_type": "code",
   "execution_count": 8,
   "id": "f80611f7",
   "metadata": {},
   "outputs": [
    {
     "name": "stdout",
     "output_type": "stream",
     "text": [
      "Vector vec_1:\n",
      "[1 2 3 4 5 6]\n",
      "Shape: (6,)\n",
      "==========\n",
      "Matrix mat_1 (reshaped):\n",
      "[[1 2]\n",
      " [3 4]\n",
      " [5 6]]\n",
      "Shape: (3, 2)\n"
     ]
    }
   ],
   "source": [
    "import numpy as np\n",
    "\n",
    "vec_1 = np.array([1, 2, 3, 4, 5, 6])\n",
    "mat_1 = vec_1.reshape((3, 2))\n",
    "\n",
    "print(\"Vector vec_1:\")\n",
    "print(vec_1)\n",
    "print(\"Shape:\", vec_1.shape)\n",
    "print(\"==========\")\n",
    "\n",
    "print(\"Matrix mat_1 (reshaped):\")\n",
    "print(mat_1)\n",
    "print(\"Shape:\", mat_1.shape)\n"
   ]
  },
  {
   "cell_type": "code",
   "execution_count": 9,
   "id": "4f4edfc2",
   "metadata": {},
   "outputs": [
    {
     "data": {
      "text/plain": [
       "array([[1],\n",
       "       [2],\n",
       "       [3],\n",
       "       [4]])"
      ]
     },
     "execution_count": 9,
     "metadata": {},
     "output_type": "execute_result"
    }
   ],
   "source": [
    "vec_2 = np.array([1,2,3,4])\n",
    "mat_2 = vec_2.reshape(vec_2.shape[0],1)\n",
    "mat_2"
   ]
  },
  {
   "cell_type": "code",
   "execution_count": 10,
   "id": "fdee4950",
   "metadata": {},
   "outputs": [
    {
     "data": {
      "text/plain": [
       "4"
      ]
     },
     "execution_count": 10,
     "metadata": {},
     "output_type": "execute_result"
    }
   ],
   "source": [
    "vec_2.shape[0]"
   ]
  },
  {
   "cell_type": "code",
   "execution_count": 11,
   "id": "d13be0f3",
   "metadata": {},
   "outputs": [
    {
     "data": {
      "text/plain": [
       "array([[1],\n",
       "       [2],\n",
       "       [3],\n",
       "       [4]])"
      ]
     },
     "execution_count": 11,
     "metadata": {},
     "output_type": "execute_result"
    }
   ],
   "source": [
    "vec_2[:,None]"
   ]
  },
  {
   "cell_type": "code",
   "execution_count": 12,
   "id": "f898b1f0",
   "metadata": {},
   "outputs": [
    {
     "name": "stdout",
     "output_type": "stream",
     "text": [
      "Matrix mat:\n",
      "[[0.  1.  3.1]\n",
      " [4.  5.  6. ]\n",
      " [7.  8.  9. ]]\n",
      "Shape: (3, 3)\n",
      "Data type: float64\n"
     ]
    }
   ],
   "source": [
    "import numpy as np\n",
    "\n",
    "mat = np.array([\n",
    "    [False, True, 3.1],\n",
    "    [4, 5, 6],\n",
    "    [7, 8, 9]\n",
    "])\n",
    "\n",
    "print(\"Matrix mat:\")\n",
    "print(mat)\n",
    "print(\"Shape:\", mat.shape)\n",
    "print(\"Data type:\", mat.dtype)\n"
   ]
  },
  {
   "cell_type": "code",
   "execution_count": 13,
   "id": "70c8c8ba",
   "metadata": {},
   "outputs": [],
   "source": [
    "class c:\n",
    "    x = 3\n",
    "o1 = c()  "
   ]
  },
  {
   "cell_type": "code",
   "execution_count": 15,
   "id": "b2750de2",
   "metadata": {},
   "outputs": [
    {
     "name": "stdout",
     "output_type": "stream",
     "text": [
      "[['False' 'True' 'ٌRenad']\n",
      " ['4' '5' '6']\n",
      " ['7' '8' '9']]\n",
      "<U21\n"
     ]
    }
   ],
   "source": [
    "mat = np.array([[False,True,\"ٌRenad\"],\n",
    "                [4,5,6],\n",
    "                [7,8,9]\n",
    "])\n",
    "\n",
    "print(mat)\n",
    "print(mat.dtype)"
   ]
  },
  {
   "cell_type": "code",
   "execution_count": 16,
   "id": "44503a17",
   "metadata": {},
   "outputs": [
    {
     "data": {
      "text/plain": [
       "np.str_('5')"
      ]
     },
     "execution_count": 16,
     "metadata": {},
     "output_type": "execute_result"
    }
   ],
   "source": [
    "mat = np.array([[False,True,\"Renad\"],\n",
    "                [4,5,6],\n",
    "                [7,8,9],\n",
    "                [0,0,0]\n",
    "])\n",
    "\n",
    "mat[1,-2]"
   ]
  },
  {
   "cell_type": "code",
   "execution_count": 17,
   "id": "d72360f0",
   "metadata": {},
   "outputs": [
    {
     "data": {
      "text/plain": [
       "array([[8, 2],\n",
       "       [8, 3]])"
      ]
     },
     "execution_count": 17,
     "metadata": {},
     "output_type": "execute_result"
    }
   ],
   "source": [
    "mat= np.array([[1,6,7,8,2,6],\n",
    "              [4,1,0,8,3,6],\n",
    "              [3,6,9,4,5,5]\n",
    "              ])\n",
    "mat[-3:-1 , -3:-1]"
   ]
  },
  {
   "cell_type": "code",
   "execution_count": 18,
   "id": "d27583b7",
   "metadata": {},
   "outputs": [
    {
     "data": {
      "text/plain": [
       "array([[1, 4, 3],\n",
       "       [6, 1, 6],\n",
       "       [7, 0, 9],\n",
       "       [8, 8, 4],\n",
       "       [2, 3, 5],\n",
       "       [6, 6, 5]])"
      ]
     },
     "execution_count": 18,
     "metadata": {},
     "output_type": "execute_result"
    }
   ],
   "source": [
    "transpose = mat.T\n",
    "transpose"
   ]
  },
  {
   "cell_type": "code",
   "execution_count": 19,
   "id": "33f1a340",
   "metadata": {},
   "outputs": [
    {
     "data": {
      "text/plain": [
       "array([[0., 0., 0., 0., 0.],\n",
       "       [0., 0., 0., 0., 0.]])"
      ]
     },
     "execution_count": 19,
     "metadata": {},
     "output_type": "execute_result"
    }
   ],
   "source": [
    "mat = np.zeros((2,5))\n",
    "mat"
   ]
  },
  {
   "cell_type": "code",
   "execution_count": 20,
   "id": "25931132",
   "metadata": {},
   "outputs": [
    {
     "data": {
      "text/plain": [
       "array([[0., 0., 0., 0.],\n",
       "       [0., 0., 0., 0.],\n",
       "       [0., 0., 0., 0.]])"
      ]
     },
     "execution_count": 20,
     "metadata": {},
     "output_type": "execute_result"
    }
   ],
   "source": [
    "mat = np.zeros((3,4))\n",
    "mat"
   ]
  },
  {
   "cell_type": "code",
   "execution_count": 21,
   "id": "bb19a17b",
   "metadata": {},
   "outputs": [
    {
     "data": {
      "text/plain": [
       "array([[1., 1., 1., 1.],\n",
       "       [1., 1., 1., 1.],\n",
       "       [1., 1., 1., 1.]])"
      ]
     },
     "execution_count": 21,
     "metadata": {},
     "output_type": "execute_result"
    }
   ],
   "source": [
    "mat = np.ones((3,4))\n",
    "mat"
   ]
  },
  {
   "cell_type": "code",
   "execution_count": 23,
   "id": "b5f9cd8f",
   "metadata": {},
   "outputs": [
    {
     "data": {
      "text/plain": [
       "array([[1., 0., 0., 0.],\n",
       "       [0., 1., 0., 0.],\n",
       "       [0., 0., 1., 0.],\n",
       "       [0., 0., 0., 1.]], dtype=float32)"
      ]
     },
     "execution_count": 23,
     "metadata": {},
     "output_type": "execute_result"
    }
   ],
   "source": [
    "mat = np.identity(4,dtype= 'float32')\n",
    "mat"
   ]
  },
  {
   "cell_type": "code",
   "execution_count": 26,
   "id": "ba3a2cea",
   "metadata": {},
   "outputs": [
    {
     "data": {
      "text/plain": [
       "array([[6, 6, 6, 6],\n",
       "       [6, 6, 6, 6],\n",
       "       [6, 6, 6, 6]])"
      ]
     },
     "execution_count": 26,
     "metadata": {},
     "output_type": "execute_result"
    }
   ],
   "source": [
    "mat = np.full((3,4),6)\n",
    "\n",
    "mat"
   ]
  },
  {
   "cell_type": "code",
   "execution_count": 28,
   "id": "1904b66b",
   "metadata": {},
   "outputs": [
    {
     "data": {
      "text/plain": [
       "array([['True', 'laila', 'laila', '9', '9', '9'],\n",
       "       ['9', '9', 'sara', '9', '9', '9'],\n",
       "       ['True', '9', '9', 'sara', '9', 'True'],\n",
       "       ['9', 'sara', 'True', 'True', '9', 'sara']], dtype='<U21')"
      ]
     },
     "execution_count": 28,
     "metadata": {},
     "output_type": "execute_result"
    }
   ],
   "source": [
    "a = ['laila',9,True,'sara']\n",
    "np.random.choice(a , size = (4,6))"
   ]
  },
  {
   "cell_type": "code",
   "execution_count": null,
   "id": "9ef2c0a6",
   "metadata": {},
   "outputs": [],
   "source": []
  },
  {
   "cell_type": "code",
   "execution_count": null,
   "id": "57768e2c",
   "metadata": {},
   "outputs": [],
   "source": []
  }
 ],
 "metadata": {
  "kernelspec": {
   "display_name": "Python 3",
   "language": "python",
   "name": "python3"
  },
  "language_info": {
   "codemirror_mode": {
    "name": "ipython",
    "version": 3
   },
   "file_extension": ".py",
   "mimetype": "text/x-python",
   "name": "python",
   "nbconvert_exporter": "python",
   "pygments_lexer": "ipython3",
   "version": "3.12.9"
  }
 },
 "nbformat": 4,
 "nbformat_minor": 5
}
